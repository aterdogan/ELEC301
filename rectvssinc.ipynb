{
  "nbformat": 4,
  "nbformat_minor": 0,
  "metadata": {
    "colab": {
      "provenance": [],
      "authorship_tag": "ABX9TyObqxXzlC4M8omT3vt1zGtH",
      "include_colab_link": true
    },
    "kernelspec": {
      "name": "python3",
      "display_name": "Python 3"
    },
    "language_info": {
      "name": "python"
    },
    "widgets": {
      "application/vnd.jupyter.widget-state+json": {
        "055bb65877464182b6cbeafece33131e": {
          "model_module": "@jupyter-widgets/controls",
          "model_name": "VBoxModel",
          "model_module_version": "1.5.0",
          "state": {
            "_dom_classes": [
              "widget-interact"
            ],
            "_model_module": "@jupyter-widgets/controls",
            "_model_module_version": "1.5.0",
            "_model_name": "VBoxModel",
            "_view_count": null,
            "_view_module": "@jupyter-widgets/controls",
            "_view_module_version": "1.5.0",
            "_view_name": "VBoxView",
            "box_style": "",
            "children": [
              "IPY_MODEL_70a398abb723430faa2d0bc046ffffc7",
              "IPY_MODEL_06da8e82f0cd45e6893b28c6eac18460"
            ],
            "layout": "IPY_MODEL_6e5fa17bf37a4f19baf44081d0413a97"
          }
        },
        "70a398abb723430faa2d0bc046ffffc7": {
          "model_module": "@jupyter-widgets/controls",
          "model_name": "FloatSliderModel",
          "model_module_version": "1.5.0",
          "state": {
            "_dom_classes": [],
            "_model_module": "@jupyter-widgets/controls",
            "_model_module_version": "1.5.0",
            "_model_name": "FloatSliderModel",
            "_view_count": null,
            "_view_module": "@jupyter-widgets/controls",
            "_view_module_version": "1.5.0",
            "_view_name": "FloatSliderView",
            "continuous_update": true,
            "description": "bandwidth",
            "description_tooltip": null,
            "disabled": false,
            "layout": "IPY_MODEL_59b5e83430a445a9b8535bf388d653ee",
            "max": 10,
            "min": 0.1,
            "orientation": "horizontal",
            "readout": true,
            "readout_format": ".2f",
            "step": 0.1,
            "style": "IPY_MODEL_4a91a5edd1f94bbeaf444cba124b58c4",
            "value": 8.700000000000001
          }
        },
        "06da8e82f0cd45e6893b28c6eac18460": {
          "model_module": "@jupyter-widgets/output",
          "model_name": "OutputModel",
          "model_module_version": "1.0.0",
          "state": {
            "_dom_classes": [],
            "_model_module": "@jupyter-widgets/output",
            "_model_module_version": "1.0.0",
            "_model_name": "OutputModel",
            "_view_count": null,
            "_view_module": "@jupyter-widgets/output",
            "_view_module_version": "1.0.0",
            "_view_name": "OutputView",
            "layout": "IPY_MODEL_a31c27b02d104c5583beed17b67f24fd",
            "msg_id": "",
            "outputs": [
              {
                "output_type": "display_data",
                "data": {
                  "text/plain": "<Figure size 720x288 with 2 Axes>",
                  "image/png": "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\n"
                },
                "metadata": {
                  "needs_background": "light"
                }
              }
            ]
          }
        },
        "6e5fa17bf37a4f19baf44081d0413a97": {
          "model_module": "@jupyter-widgets/base",
          "model_name": "LayoutModel",
          "model_module_version": "1.2.0",
          "state": {
            "_model_module": "@jupyter-widgets/base",
            "_model_module_version": "1.2.0",
            "_model_name": "LayoutModel",
            "_view_count": null,
            "_view_module": "@jupyter-widgets/base",
            "_view_module_version": "1.2.0",
            "_view_name": "LayoutView",
            "align_content": null,
            "align_items": null,
            "align_self": null,
            "border": null,
            "bottom": null,
            "display": null,
            "flex": null,
            "flex_flow": null,
            "grid_area": null,
            "grid_auto_columns": null,
            "grid_auto_flow": null,
            "grid_auto_rows": null,
            "grid_column": null,
            "grid_gap": null,
            "grid_row": null,
            "grid_template_areas": null,
            "grid_template_columns": null,
            "grid_template_rows": null,
            "height": null,
            "justify_content": null,
            "justify_items": null,
            "left": null,
            "margin": null,
            "max_height": null,
            "max_width": null,
            "min_height": null,
            "min_width": null,
            "object_fit": null,
            "object_position": null,
            "order": null,
            "overflow": null,
            "overflow_x": null,
            "overflow_y": null,
            "padding": null,
            "right": null,
            "top": null,
            "visibility": null,
            "width": null
          }
        },
        "59b5e83430a445a9b8535bf388d653ee": {
          "model_module": "@jupyter-widgets/base",
          "model_name": "LayoutModel",
          "model_module_version": "1.2.0",
          "state": {
            "_model_module": "@jupyter-widgets/base",
            "_model_module_version": "1.2.0",
            "_model_name": "LayoutModel",
            "_view_count": null,
            "_view_module": "@jupyter-widgets/base",
            "_view_module_version": "1.2.0",
            "_view_name": "LayoutView",
            "align_content": null,
            "align_items": null,
            "align_self": null,
            "border": null,
            "bottom": null,
            "display": null,
            "flex": null,
            "flex_flow": null,
            "grid_area": null,
            "grid_auto_columns": null,
            "grid_auto_flow": null,
            "grid_auto_rows": null,
            "grid_column": null,
            "grid_gap": null,
            "grid_row": null,
            "grid_template_areas": null,
            "grid_template_columns": null,
            "grid_template_rows": null,
            "height": null,
            "justify_content": null,
            "justify_items": null,
            "left": null,
            "margin": null,
            "max_height": null,
            "max_width": null,
            "min_height": null,
            "min_width": null,
            "object_fit": null,
            "object_position": null,
            "order": null,
            "overflow": null,
            "overflow_x": null,
            "overflow_y": null,
            "padding": null,
            "right": null,
            "top": null,
            "visibility": null,
            "width": null
          }
        },
        "4a91a5edd1f94bbeaf444cba124b58c4": {
          "model_module": "@jupyter-widgets/controls",
          "model_name": "SliderStyleModel",
          "model_module_version": "1.5.0",
          "state": {
            "_model_module": "@jupyter-widgets/controls",
            "_model_module_version": "1.5.0",
            "_model_name": "SliderStyleModel",
            "_view_count": null,
            "_view_module": "@jupyter-widgets/base",
            "_view_module_version": "1.2.0",
            "_view_name": "StyleView",
            "description_width": "",
            "handle_color": null
          }
        },
        "a31c27b02d104c5583beed17b67f24fd": {
          "model_module": "@jupyter-widgets/base",
          "model_name": "LayoutModel",
          "model_module_version": "1.2.0",
          "state": {
            "_model_module": "@jupyter-widgets/base",
            "_model_module_version": "1.2.0",
            "_model_name": "LayoutModel",
            "_view_count": null,
            "_view_module": "@jupyter-widgets/base",
            "_view_module_version": "1.2.0",
            "_view_name": "LayoutView",
            "align_content": null,
            "align_items": null,
            "align_self": null,
            "border": null,
            "bottom": null,
            "display": null,
            "flex": null,
            "flex_flow": null,
            "grid_area": null,
            "grid_auto_columns": null,
            "grid_auto_flow": null,
            "grid_auto_rows": null,
            "grid_column": null,
            "grid_gap": null,
            "grid_row": null,
            "grid_template_areas": null,
            "grid_template_columns": null,
            "grid_template_rows": null,
            "height": null,
            "justify_content": null,
            "justify_items": null,
            "left": null,
            "margin": null,
            "max_height": null,
            "max_width": null,
            "min_height": null,
            "min_width": null,
            "object_fit": null,
            "object_position": null,
            "order": null,
            "overflow": null,
            "overflow_x": null,
            "overflow_y": null,
            "padding": null,
            "right": null,
            "top": null,
            "visibility": null,
            "width": null
          }
        }
      }
    }
  },
  "cells": [
    {
      "cell_type": "markdown",
      "metadata": {
        "id": "view-in-github",
        "colab_type": "text"
      },
      "source": [
        "<a href=\"https://colab.research.google.com/github/aterdogan/ELEC301/blob/main/rectvssinc.ipynb\" target=\"_parent\"><img src=\"https://colab.research.google.com/assets/colab-badge.svg\" alt=\"Open In Colab\"/></a>"
      ]
    },
    {
      "cell_type": "code",
      "execution_count": 1,
      "metadata": {
        "id": "Vig0Tf0pDMUA"
      },
      "outputs": [],
      "source": [
        "from google.colab import output\n",
        "output.enable_custom_widget_manager()\n",
        "\n",
        "#widget modules\n",
        "from ipywidgets import interact, interactive\n",
        "import ipywidgets as widgets"
      ]
    },
    {
      "cell_type": "code",
      "source": [
        "\n",
        "import matplotlib.pyplot as plt\n",
        "import numpy as np\n",
        "import os \n",
        "from IPython.core.display import display, HTML"
      ],
      "metadata": {
        "id": "I7L4VU2RDY8s"
      },
      "execution_count": 3,
      "outputs": []
    },
    {
      "cell_type": "code",
      "source": [
        "\n",
        "def update_plot(bandwidth):\n",
        "    # Set up the plot\n",
        "    fig, (ax1, ax2) = plt.subplots(1, 2, figsize=(10, 4))\n",
        "\n",
        "    # Define the rectangle function\n",
        "    t = np.linspace(-10, 10, 1000)\n",
        "    rect = np.zeros(len(t))\n",
        "    rect[np.abs(t) < bandwidth/2] = 1\n",
        "\n",
        "    # Plot the rectangle function\n",
        "    ax1.plot(t, rect)\n",
        "    ax1.set_title('Rectangle Function')\n",
        "    ax1.set_xlabel('Frequency (Hz)')\n",
        "    ax1.set_ylabel('Amplitude')\n",
        "\n",
        "    # Define the sinc function\n",
        "    sinc = bandwidth*np.sinc(t * bandwidth / np.pi)\n",
        "\n",
        "    # Plot the sinc function\n",
        "    ax2.plot(t, sinc)\n",
        "    ax2.set_title('Sinc Function')\n",
        "    ax2.set_xlabel('Time (Sec)')\n",
        "    ax2.set_ylabel('Amplitude')\n",
        "interactive_plot = interactive(update_plot,bandwidth=(0.1,10.0))\n",
        "output = interactive_plot.children[-1]\n",
        "interactive_plot\n",
        "     "
      ],
      "metadata": {
        "colab": {
          "base_uri": "https://localhost:8080/",
          "height": 327,
          "referenced_widgets": [
            "055bb65877464182b6cbeafece33131e",
            "70a398abb723430faa2d0bc046ffffc7",
            "06da8e82f0cd45e6893b28c6eac18460",
            "6e5fa17bf37a4f19baf44081d0413a97",
            "59b5e83430a445a9b8535bf388d653ee",
            "4a91a5edd1f94bbeaf444cba124b58c4",
            "a31c27b02d104c5583beed17b67f24fd"
          ]
        },
        "id": "iM71uBlTDeTr",
        "outputId": "09fcec35-e6e5-4057-837a-c43dcfc280c8"
      },
      "execution_count": 9,
      "outputs": [
        {
          "output_type": "display_data",
          "data": {
            "text/plain": [
              "interactive(children=(FloatSlider(value=5.05, description='bandwidth', max=10.0, min=0.1), Output()), _dom_cla…"
            ],
            "application/vnd.jupyter.widget-view+json": {
              "version_major": 2,
              "version_minor": 0,
              "model_id": "055bb65877464182b6cbeafece33131e"
            }
          },
          "metadata": {
            "application/vnd.jupyter.widget-view+json": {
              "colab": {
                "custom_widget_manager": {
                  "url": "https://ssl.gstatic.com/colaboratory-static/widgets/colab-cdn-widget-manager/b3e629b1971e1542/manager.min.js"
                }
              }
            }
          }
        }
      ]
    },
    {
      "cell_type": "code",
      "source": [],
      "metadata": {
        "id": "Te6JqJSODu_b"
      },
      "execution_count": null,
      "outputs": []
    }
  ]
}